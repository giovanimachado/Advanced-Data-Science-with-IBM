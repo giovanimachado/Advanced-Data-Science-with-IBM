{
    "cells": [
        {
            "metadata": {},
            "cell_type": "code",
            "source": "# import data\nfrom tensorflow.examples.tutorials.mnist import input_data\nmnist = input_data.read_data_sets(\"MNIST_data/\",one_hot=True)",
            "execution_count": null,
            "outputs": []
        },
        {
            "metadata": {},
            "cell_type": "code",
            "source": "import tensorflow as tf\nimport datetime\nimport time",
            "execution_count": null,
            "outputs": []
        },
        {
            "metadata": {},
            "cell_type": "code",
            "source": "#use built in iterator\nbatch_xs, batch_ys = mnist.train.next_batch(1)\n",
            "execution_count": null,
            "outputs": []
        },
        {
            "metadata": {},
            "cell_type": "code",
            "source": "%matplotlib inline\nimport matplotlib.pyplot as plt \nbatch_xs, batch_ys = mnist.train.next_batch(1)\nX = batch_xs\nX_res = X.reshape([28,28]) # It is necessary to reshape the otherwise the plot method is going to print a vector\nplt.gray()\nprint(batch_ys) # print the one hot encoded label\nf, axarr = plt.subplots(2,1,figsize=(10,10))\naxarr[0].imshow(X)\naxarr[1].imshow(X_res)",
            "execution_count": null,
            "outputs": []
        },
        {
            "metadata": {},
            "cell_type": "code",
            "source": "tb_logdir = 'tb_logdir/'+str(datetime.date.today())+str(time.time())",
            "execution_count": 5,
            "outputs": []
        },
        {
            "metadata": {},
            "cell_type": "code",
            "source": "if False:\n    %matplotlib inline\n    import matplotlib.pyplot as plt \n    batch_xs, batch_ys = mnist.train.next_batch(1)\n    X = batch_xs\n    X = X.reshape([28,28]) # It is necessary to reshape the \n    plt.gray()\n    print(batch_ys)\n    plt.imshow(X)",
            "execution_count": null,
            "outputs": []
        },
        {
            "metadata": {},
            "cell_type": "code",
            "source": "x = tf.placeholder(tf.float32, [None,784])\n# A placeholder is simply a variable that we will assign data to at a later date. It allows us to create our operations \n#and build our computation graph, without needing the data. In TensorFlow terminology, we then feed data into the graph \n#through these placeholders.\nW = tf.Variable(tf.zeros([784,10]))\nb = tf.Variable(tf.zeros([10]))\ny = tf.nn.softmax(tf.matmul(x,W) + b)\n\ntf.summary.histogram('W',W)\ntf.summary.histogram('b',b)\ntf.summary.histogram('y',y)",
            "execution_count": 6,
            "outputs": [
                {
                    "output_type": "stream",
                    "text": "WARNING:tensorflow:From /opt/ibm/conda/miniconda3.6/lib/python3.6/site-packages/tensorflow/python/framework/op_def_library.py:263: colocate_with (from tensorflow.python.framework.ops) is deprecated and will be removed in a future version.\nInstructions for updating:\nColocations handled automatically by placer.\n",
                    "name": "stderr"
                },
                {
                    "output_type": "execute_result",
                    "execution_count": 6,
                    "data": {
                        "text/plain": "<tf.Tensor 'y:0' shape=() dtype=string>"
                    },
                    "metadata": {}
                }
            ]
        },
        {
            "metadata": {},
            "cell_type": "code",
            "source": "y_ = tf.placeholder(tf.float32, [None,10]) # 10 because the one hoted encoded vector dimension",
            "execution_count": 7,
            "outputs": []
        },
        {
            "metadata": {},
            "cell_type": "code",
            "source": "cross_entropy = tf.reduce_mean(-tf.reduce_sum(y_ * tf.log(y), reduction_indices=[1])) #y_ is the predicted value\ntrain_step = tf.train.GradientDescentOptimizer(0.5).minimize(cross_entropy)",
            "execution_count": 8,
            "outputs": [
                {
                    "output_type": "stream",
                    "text": "WARNING:tensorflow:From /opt/ibm/conda/miniconda3.6/lib/python3.6/site-packages/tensorflow/python/ops/math_ops.py:3066: to_int32 (from tensorflow.python.ops.math_ops) is deprecated and will be removed in a future version.\nInstructions for updating:\nUse tf.cast instead.\n",
                    "name": "stderr"
                }
            ]
        },
        {
            "metadata": {},
            "cell_type": "code",
            "source": "sess = tf.InteractiveSession() # A session is the way to deply a TensorFlow execution graph, onto a specific execution context like a GPU\n# or CPU",
            "execution_count": 9,
            "outputs": []
        },
        {
            "metadata": {},
            "cell_type": "code",
            "source": "tf.global_variables_initializer().run()# initializing global varibles",
            "execution_count": 12,
            "outputs": []
        },
        {
            "metadata": {},
            "cell_type": "code",
            "source": "for _ in range(1000):c\n    batch_xs, batch_ys = mnist.train.next_batch(100)\n    sess.run(train_stepc, feed_dict={x: batch_xs, y_: batch_ys})",
            "execution_count": 16,
            "outputs": []
        },
        {
            "metadata": {},
            "cell_type": "code",
            "source": "correct_prediction = tf.equal(tf.argmax(y,1),tf.argmax(y_,1)) # argmax return the index of the tensor (in this case a vector)",
            "execution_count": 18,
            "outputs": []
        },
        {
            "metadata": {},
            "cell_type": "code",
            "source": "accuracy = tf.reduce_mean(tf.cast(correct_prediction,tf.float32)) # Correct prediction is a vector, to calculate mean is necessary\n# to cast it to a float",
            "execution_count": 19,
            "outputs": []
        },
        {
            "metadata": {},
            "cell_type": "code",
            "source": "print(sess.run(accuracy,feed_dict={x: mnist.test.images, y_: mnist.test.labels})) \n# It is necessary to use TensorFlow session to execute it",
            "execution_count": 23,
            "outputs": [
                {
                    "output_type": "stream",
                    "text": "0.9167\n",
                    "name": "stdout"
                }
            ]
        },
        {
            "metadata": {},
            "cell_type": "code",
            "source": "# tf.summary.scalar('loss',cross_entropy)",
            "execution_count": null,
            "outputs": []
        },
        {
            "metadata": {},
            "cell_type": "code",
            "source": "# correct_prediction = tf.equal(tf.argmax(y,1),tf.argmax(y_,1))\n# accuracy = tf.reduce_mean(tf.cast(correct_prediction,tf.float32))\n# tf.summary.scalar('accuracy',accuracy)",
            "execution_count": null,
            "outputs": []
        },
        {
            "metadata": {},
            "cell_type": "code",
            "source": "# with tf.Session() as sess:\n#     summary_writer = tf.summary.FileWriter(tb_logdir , sess.graph)\n#     tf.global_variables_initializer().run()\n#     for i in range(1000):\n#         batch_xs, batch_ys = mnist.train.next_batch(100)\n#         _, summary =sess.run([train_step,tf.summary.merge_all()], feed_dict={x: batch_xs, y_: batch_ys})\n#         summary_writer.add_summary(summary, i)\n#         sess.run([accuracy,tf.summary.merge_all()], feed_dict={x: batch_xs, y_: batch_ys})",
            "execution_count": null,
            "outputs": []
        },
        {
            "metadata": {},
            "cell_type": "code",
            "source": "",
            "execution_count": null,
            "outputs": []
        }
    ],
    "metadata": {
        "kernelspec": {
            "name": "python36",
            "display_name": "Python 3.6 with Spark",
            "language": "python3"
        },
        "language_info": {
            "mimetype": "text/x-python",
            "nbconvert_exporter": "python",
            "name": "python",
            "pygments_lexer": "ipython3",
            "version": "3.6.8",
            "file_extension": ".py",
            "codemirror_mode": {
                "version": 3,
                "name": "ipython"
            }
        }
    },
    "nbformat": 4,
    "nbformat_minor": 1
}