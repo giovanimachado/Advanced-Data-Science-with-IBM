{
    "cells": [
        {
            "metadata": {},
            "cell_type": "code",
            "source": "import numpy as np\nfrom IPython.display import Image",
            "execution_count": 90,
            "outputs": []
        },
        {
            "metadata": {},
            "cell_type": "code",
            "source": "dp1 = {'partno': 100, 'maxtemp': 35, 'mintemp': 35, 'maxvibration': 12, 'asperity': 0.32}\ndp2 = {'partno': 101, 'maxtemp': 46, 'mintemp': 35, 'maxvibration': 21, 'asperity': 0.34}\ndp3 = {'partno': 130, 'maxtemp': 56, 'mintemp': 46, 'maxvibration': 3412, 'asperity': 12.42}\ndp4 = {'partno': 131, 'maxtemp': 58, 'mintemp': 48, 'maxvibration': 3542, 'asperity': 13.43}",
            "execution_count": 2,
            "outputs": []
        },
        {
            "metadata": {},
            "cell_type": "code",
            "source": "print(dp1)\nprint(dp2)\nprint(dp3)\nprint(dp4)",
            "execution_count": 3,
            "outputs": [
                {
                    "output_type": "stream",
                    "text": "{'partno': 100, 'maxtemp': 35, 'mintemp': 35, 'maxvibration': 12, 'asperity': 0.32}\n{'partno': 101, 'maxtemp': 46, 'mintemp': 35, 'maxvibration': 21, 'asperity': 0.34}\n{'partno': 130, 'maxtemp': 56, 'mintemp': 46, 'maxvibration': 3412, 'asperity': 12.42}\n{'partno': 131, 'maxtemp': 58, 'mintemp': 48, 'maxvibration': 3542, 'asperity': 13.43}\n",
                    "name": "stdout"
                }
            ]
        },
        {
            "metadata": {},
            "cell_type": "markdown",
            "source": "#### Creating a manual classifier"
        },
        {
            "metadata": {},
            "cell_type": "code",
            "source": "def predict(dp):\n    if dp['maxvibration']> 100:\n        return 13\n    else:\n        return 0.33",
            "execution_count": 4,
            "outputs": []
        },
        {
            "metadata": {},
            "cell_type": "code",
            "source": "predict(dp1)",
            "execution_count": 5,
            "outputs": [
                {
                    "output_type": "execute_result",
                    "execution_count": 5,
                    "data": {
                        "text/plain": "0.33"
                    },
                    "metadata": {}
                }
            ]
        },
        {
            "metadata": {},
            "cell_type": "code",
            "source": "predict(dp2)",
            "execution_count": 6,
            "outputs": [
                {
                    "output_type": "execute_result",
                    "execution_count": 6,
                    "data": {
                        "text/plain": "0.33"
                    },
                    "metadata": {}
                }
            ]
        },
        {
            "metadata": {},
            "cell_type": "code",
            "source": "predict(dp3)",
            "execution_count": 7,
            "outputs": [
                {
                    "output_type": "execute_result",
                    "execution_count": 7,
                    "data": {
                        "text/plain": "13"
                    },
                    "metadata": {}
                }
            ]
        },
        {
            "metadata": {},
            "cell_type": "code",
            "source": "predict(dp4)",
            "execution_count": 8,
            "outputs": [
                {
                    "output_type": "execute_result",
                    "execution_count": 8,
                    "data": {
                        "text/plain": "13"
                    },
                    "metadata": {}
                }
            ]
        },
        {
            "metadata": {},
            "cell_type": "markdown",
            "source": "#### Creating a linear regression\nsetting the weights manually. "
        },
        {
            "metadata": {},
            "cell_type": "code",
            "source": "w1 = 0.30\nw2 = 0\nw3 = 0\nw4 = 13/3412.0\n\ndef mlpredict(dp):\n    return w1+w2*dp['maxtemp']+w3*dp['mintemp']+w4*dp['maxvibration']",
            "execution_count": 9,
            "outputs": []
        },
        {
            "metadata": {},
            "cell_type": "code",
            "source": "mlpredict(dp4)",
            "execution_count": 10,
            "outputs": [
                {
                    "output_type": "execute_result",
                    "execution_count": 10,
                    "data": {
                        "text/plain": "13.795310668229778"
                    },
                    "metadata": {}
                }
            ]
        },
        {
            "metadata": {},
            "cell_type": "markdown",
            "source": "#### Change this regression data set into a binary classification data set:"
        },
        {
            "metadata": {},
            "cell_type": "code",
            "source": "dp1 = {'partno': 100, 'maxtemp': 35, 'mintemp': 35, 'maxvibration': 12, 'broken': 0}\ndp2 = {'partno': 101, 'maxtemp': 46, 'mintemp': 35, 'maxvibration': 21, 'broken': 0}\ndp3 = {'partno': 130, 'maxtemp': 56, 'mintemp': 46, 'maxvibration': 3412, 'broken': 1}\ndp4 = {'partno': 131, 'maxtemp': 58, 'mintemp': 48, 'maxvibration': 3542, 'broken': 1}",
            "execution_count": 11,
            "outputs": []
        },
        {
            "metadata": {},
            "cell_type": "markdown",
            "source": "#### Binary classifier:"
        },
        {
            "metadata": {},
            "cell_type": "code",
            "source": "def predict(dp):\n    if dp['maxvibration']> 100:\n        return 1\n    else:\n        return 0",
            "execution_count": 12,
            "outputs": []
        },
        {
            "metadata": {},
            "cell_type": "code",
            "source": "predict(dp1)",
            "execution_count": 13,
            "outputs": [
                {
                    "output_type": "execute_result",
                    "execution_count": 13,
                    "data": {
                        "text/plain": "0"
                    },
                    "metadata": {}
                }
            ]
        },
        {
            "metadata": {},
            "cell_type": "code",
            "source": "predict(dp2)",
            "execution_count": 14,
            "outputs": [
                {
                    "output_type": "execute_result",
                    "execution_count": 14,
                    "data": {
                        "text/plain": "0"
                    },
                    "metadata": {}
                }
            ]
        },
        {
            "metadata": {},
            "cell_type": "code",
            "source": "predict(dp3)",
            "execution_count": 15,
            "outputs": [
                {
                    "output_type": "execute_result",
                    "execution_count": 15,
                    "data": {
                        "text/plain": "1"
                    },
                    "metadata": {}
                }
            ]
        },
        {
            "metadata": {},
            "cell_type": "code",
            "source": "predict(dp4)",
            "execution_count": 16,
            "outputs": [
                {
                    "output_type": "execute_result",
                    "execution_count": 16,
                    "data": {
                        "text/plain": "1"
                    },
                    "metadata": {}
                }
            ]
        },
        {
            "metadata": {},
            "cell_type": "markdown",
            "source": "#### Change the regression model to a logistic regression model:"
        },
        {
            "metadata": {},
            "cell_type": "code",
            "source": "import math\n\ndef sigmoid(x):\n    return 1/(1+math.exp(-x))",
            "execution_count": 17,
            "outputs": []
        },
        {
            "metadata": {},
            "cell_type": "code",
            "source": "w1 = 0.30\nw2 = 0\nw3 = 0\nw4 = 13/3412.0\n\ndef mlpredict(dp):\n    return 1 if sigmoid(w1+w2*dp['maxtemp']+w3*dp['mintemp']+w4*dp['maxvibration']) > 0.7 else 0",
            "execution_count": 18,
            "outputs": []
        },
        {
            "metadata": {},
            "cell_type": "code",
            "source": "mlpredict(dp4)",
            "execution_count": 19,
            "outputs": [
                {
                    "output_type": "execute_result",
                    "execution_count": 19,
                    "data": {
                        "text/plain": "1"
                    },
                    "metadata": {}
                }
            ]
        },
        {
            "metadata": {},
            "cell_type": "code",
            "source": "dp1 = {'partno': 100, 'maxtemp': 35, 'mintemp': 35, 'maxvibration': 12, 'asperity': 0.32}\ndp2 = {'partno': 101, 'maxtemp': 46, 'mintemp': 35, 'maxvibration': 21, 'asperity': 0.34}\ndp3 = {'partno': 130, 'maxtemp': 56, 'mintemp': 46, 'maxvibration': 3412, 'asperity': 12.42}\ndp4 = {'partno': 131, 'maxtemp': 58, 'mintemp': 48, 'maxvibration': 3542, 'asperity': 13.43}",
            "execution_count": 20,
            "outputs": []
        },
        {
            "metadata": {},
            "cell_type": "code",
            "source": "dp1",
            "execution_count": 21,
            "outputs": [
                {
                    "output_type": "execute_result",
                    "execution_count": 21,
                    "data": {
                        "text/plain": "{'partno': 100,\n 'maxtemp': 35,\n 'mintemp': 35,\n 'maxvibration': 12,\n 'asperity': 0.32}"
                    },
                    "metadata": {}
                }
            ]
        },
        {
            "metadata": {},
            "cell_type": "markdown",
            "source": "#### Creating a perceptron neural network from scratch. "
        },
        {
            "metadata": {},
            "cell_type": "markdown",
            "source": "##### Converting dictionary to numpy"
        },
        {
            "metadata": {},
            "cell_type": "markdown",
            "source": "Get rid of the labels (key)"
        },
        {
            "metadata": {},
            "cell_type": "code",
            "source": "x1 = [v for k, v in dp1.items()] \nprint(x1)",
            "execution_count": 22,
            "outputs": [
                {
                    "output_type": "stream",
                    "text": "[100, 35, 35, 12, 0.32]\n",
                    "name": "stdout"
                }
            ]
        },
        {
            "metadata": {},
            "cell_type": "code",
            "source": "dp1.items()",
            "execution_count": 23,
            "outputs": [
                {
                    "output_type": "execute_result",
                    "execution_count": 23,
                    "data": {
                        "text/plain": "dict_items([('partno', 100), ('maxtemp', 35), ('mintemp', 35), ('maxvibration', 12), ('asperity', 0.32)])"
                    },
                    "metadata": {}
                }
            ]
        },
        {
            "metadata": {},
            "cell_type": "markdown",
            "source": "Removing parno and asperity"
        },
        {
            "metadata": {},
            "cell_type": "code",
            "source": "x1 = [v for k, v in dp1.items()][1:-1] \nprint(x1)",
            "execution_count": 24,
            "outputs": [
                {
                    "output_type": "stream",
                    "text": "[35, 35, 12]\n",
                    "name": "stdout"
                }
            ]
        },
        {
            "metadata": {},
            "cell_type": "markdown",
            "source": "Align this array or vector to the size of the weight vector"
        },
        {
            "metadata": {},
            "cell_type": "code",
            "source": "x1 = np.array([1] + [v for k, v in dp1.items()] [1:-1])\nprint(x1)",
            "execution_count": 67,
            "outputs": [
                {
                    "output_type": "stream",
                    "text": "[ 1 35 35 12]\n",
                    "name": "stdout"
                }
            ]
        },
        {
            "metadata": {},
            "cell_type": "code",
            "source": "x1 = np.array([1] + [v for k, v in dp1.items()] [1:-1])\nx2 = np.array([1] + [v for k, v in dp2.items()] [1:-1])\nx3 = np.array([1] + [v for k, v in dp3.items()] [1:-1])\nx4 = np.array([1] + [v for k, v in dp4.items()] [1:-1])",
            "execution_count": 68,
            "outputs": []
        },
        {
            "metadata": {},
            "cell_type": "code",
            "source": "x1",
            "execution_count": 69,
            "outputs": [
                {
                    "output_type": "execute_result",
                    "execution_count": 69,
                    "data": {
                        "text/plain": "array([ 1, 35, 35, 12])"
                    },
                    "metadata": {}
                }
            ]
        },
        {
            "metadata": {},
            "cell_type": "markdown",
            "source": "Choosing random weights for layer 1:"
        },
        {
            "metadata": {},
            "cell_type": "code",
            "source": "#w_layer1 = np.random.rand(4)\nw_layer1 = np.array([1,2,3,4])\nprint(w_layer1)",
            "execution_count": 94,
            "outputs": [
                {
                    "output_type": "stream",
                    "text": "[1 2 3 4]\n",
                    "name": "stdout"
                }
            ]
        },
        {
            "metadata": {},
            "cell_type": "markdown",
            "source": "Using sigmoid as activation function"
        },
        {
            "metadata": {},
            "cell_type": "code",
            "source": "def neuron(x):\n    return sigmoid(x.dot(w_layer1))",
            "execution_count": 95,
            "outputs": []
        },
        {
            "metadata": {},
            "cell_type": "code",
            "source": "print(neuron(x1))\nprint(neuron(x2))\nprint(neuron(x1))\nprint(neuron(x2))",
            "execution_count": 96,
            "outputs": [
                {
                    "output_type": "stream",
                    "text": "1.0\n1.0\n1.0\n1.0\n",
                    "name": "stdout"
                }
            ]
        },
        {
            "metadata": {},
            "cell_type": "markdown",
            "source": "Neural Network structure:"
        },
        {
            "metadata": {},
            "cell_type": "markdown",
            "source": "![texte](https://d3i71xaburhd42.cloudfront.net/40a17f823b03b455a3ace1e406b2716639fd42bc/3-Figure1-1.png)"
        },
        {
            "metadata": {},
            "cell_type": "markdown",
            "source": "Modifying the function to compute in paralell:"
        },
        {
            "metadata": {},
            "cell_type": "code",
            "source": "def sigmoid(x):\n    return 1/(1+np.exp(-x))",
            "execution_count": 57,
            "outputs": []
        },
        {
            "metadata": {},
            "cell_type": "code",
            "source": "w_layer1 = np.random.rand(4,2)\nprint(w_layer1)",
            "execution_count": 113,
            "outputs": [
                {
                    "output_type": "stream",
                    "text": "[[0.71289912 0.65767104]\n [0.65997147 0.02159712]\n [0.6958982  0.22386339]\n [0.79962946 0.69079353]]\n",
                    "name": "stdout"
                }
            ]
        },
        {
            "metadata": {},
            "cell_type": "code",
            "source": "def layer1(x):\n    return sigmoid(x.dot(w_layer1))",
            "execution_count": 114,
            "outputs": []
        },
        {
            "metadata": {},
            "cell_type": "code",
            "source": "x = np.array([x1,x2,x3,x4])",
            "execution_count": 115,
            "outputs": []
        },
        {
            "metadata": {},
            "cell_type": "code",
            "source": "x",
            "execution_count": 116,
            "outputs": [
                {
                    "output_type": "execute_result",
                    "execution_count": 116,
                    "data": {
                        "text/plain": "array([[   1,   35,   35,   12],\n       [   1,   46,   35,   21],\n       [   1,   56,   46, 3412],\n       [   1,   58,   48, 3542]])"
                    },
                    "metadata": {}
                }
            ]
        },
        {
            "metadata": {},
            "cell_type": "code",
            "source": "x.dot(w_layer1)",
            "execution_count": 117,
            "outputs": [
                {
                    "output_type": "execute_result",
                    "execution_count": 117,
                    "data": {
                        "text/plain": "array([[  57.76389117,   17.5383113 ],\n       [  72.2202425 ,   23.99302141],\n       [2798.0183328 , 2369.15236006],\n       [2904.68190181, 2459.44644037]])"
                    },
                    "metadata": {}
                }
            ]
        },
        {
            "metadata": {},
            "cell_type": "code",
            "source": "layer1(x)",
            "execution_count": 118,
            "outputs": [
                {
                    "output_type": "execute_result",
                    "execution_count": 118,
                    "data": {
                        "text/plain": "array([[1.        , 0.99999998],\n       [1.        , 1.        ],\n       [1.        , 1.        ],\n       [1.        , 1.        ]])"
                    },
                    "metadata": {}
                }
            ]
        },
        {
            "metadata": {},
            "cell_type": "markdown",
            "source": "Choosing random weights for layer 2:"
        },
        {
            "metadata": {},
            "cell_type": "code",
            "source": "w_layer2 = np.random.rand(2,1)\nprint(w_layer2)",
            "execution_count": 128,
            "outputs": [
                {
                    "output_type": "stream",
                    "text": "[[0.24813614]\n [0.53648856]]\n",
                    "name": "stdout"
                }
            ]
        },
        {
            "metadata": {},
            "cell_type": "code",
            "source": "def layer2(x):\n    return sigmoid(x.dot(w_layer2))",
            "execution_count": 129,
            "outputs": []
        },
        {
            "metadata": {},
            "cell_type": "code",
            "source": "layer2(layer1(x))",
            "execution_count": 130,
            "outputs": [
                {
                    "output_type": "execute_result",
                    "execution_count": 130,
                    "data": {
                        "text/plain": "array([[0.68667598],\n       [0.68667598],\n       [0.68667598],\n       [0.68667598]])"
                    },
                    "metadata": {}
                }
            ]
        },
        {
            "metadata": {},
            "cell_type": "code",
            "source": "",
            "execution_count": null,
            "outputs": []
        }
    ],
    "metadata": {
        "kernelspec": {
            "name": "python3",
            "display_name": "Python 3.6",
            "language": "python"
        },
        "language_info": {
            "name": "python",
            "version": "3.6.8",
            "mimetype": "text/x-python",
            "codemirror_mode": {
                "name": "ipython",
                "version": 3
            },
            "pygments_lexer": "ipython3",
            "nbconvert_exporter": "python",
            "file_extension": ".py"
        }
    },
    "nbformat": 4,
    "nbformat_minor": 1
}