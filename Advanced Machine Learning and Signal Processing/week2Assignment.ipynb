{
    "cells": [
        {
            "metadata": {},
            "cell_type": "markdown",
            "source": "This is the second assignment for the Coursera course \"Advanced Machine Learning and Signal Processing\"\n\n\nJust execute all cells one after the other and you are done - just note that in the last one you have to update your email address (the one you've used for coursera) and obtain a submission token, you get this from the programming assignment directly on coursera.\n\nPlease fill in the sections labelled with \"###YOUR_CODE_GOES_HERE###\""
        },
        {
            "metadata": {},
            "cell_type": "code",
            "source": "!wget https://github.com/IBM/coursera/raw/master/coursera_ml/a2.parquet",
            "execution_count": 1,
            "outputs": [
                {
                    "output_type": "stream",
                    "text": "Waiting for a Spark session to start...\nSpark Initialization Done! ApplicationId = app-20191228235615-0000\nKERNEL_ID = 406cc56a-ff2c-4907-8f50-82da847eb57a\n--2019-12-28 23:56:17--  https://github.com/IBM/coursera/raw/master/coursera_ml/a2.parquet\nResolving github.com (github.com)... 140.82.113.3\nConnecting to github.com (github.com)|140.82.113.3|:443... connected.\nHTTP request sent, awaiting response... 302 Found\nLocation: https://raw.githubusercontent.com/IBM/coursera/master/coursera_ml/a2.parquet [following]\n--2019-12-28 23:56:17--  https://raw.githubusercontent.com/IBM/coursera/master/coursera_ml/a2.parquet\nResolving raw.githubusercontent.com (raw.githubusercontent.com)... 199.232.8.133\nConnecting to raw.githubusercontent.com (raw.githubusercontent.com)|199.232.8.133|:443... connected.\nHTTP request sent, awaiting response... 200 OK\nLength: 59032 (58K) [application/octet-stream]\nSaving to: 'a2.parquet'\n\n100%[======================================>] 59,032      --.-K/s   in 0.002s  \n\n2019-12-28 23:56:18 (29.5 MB/s) - 'a2.parquet' saved [59032/59032]\n\n",
                    "name": "stdout"
                }
            ]
        },
        {
            "metadata": {},
            "cell_type": "markdown",
            "source": "Now it\u2019s time to have a look at the recorded sensor data. You should see data similar to the one exemplified below\u2026.\n"
        },
        {
            "metadata": {},
            "cell_type": "code",
            "source": "df=spark.read.load('a2.parquet')\n\ndf.createOrReplaceTempView(\"df\")\nspark.sql(\"SELECT * from df\").show()\n",
            "execution_count": 2,
            "outputs": [
                {
                    "output_type": "stream",
                    "text": "+-----+-----------+-------------------+-------------------+-------------------+\n|CLASS|   SENSORID|                  X|                  Y|                  Z|\n+-----+-----------+-------------------+-------------------+-------------------+\n|    0|         26| 380.66434005495194| -139.3470983812975|-247.93697521077704|\n|    0|         29| 104.74324299209692| -32.27421440203938|-25.105013725863852|\n|    0| 8589934658| 118.11469236129976| 45.916682927433534| -87.97203782706572|\n|    0|34359738398| 246.55394030642543|-0.6122810693132044|-398.18662513951506|\n|    0|17179869241|-190.32584900181487|  234.7849657520335|-206.34483804019288|\n|    0|25769803830| 178.62396382387422| -47.07529438881511|  84.38310769821979|\n|    0|25769803831|  85.03128805189493|-4.3024316644854546|-1.1841857567516714|\n|    0|34359738411| 26.786262674736566| -46.33193951911338| 20.880756008396055|\n|    0| 8589934592|-16.203752396859194| 51.080957032176954| -96.80526656416971|\n|    0|25769803852|   47.2048142440404|  -78.2950899652916| 181.99604091494786|\n|    0|34359738369| 15.608872398939273| -79.90322809181754|  69.62150711098005|\n|    0|         19|-4.8281721129789315| -67.38050508399905| 221.24876396496404|\n|    0|         54| -98.40725712852762|-19.989364074314732|  -302.695196085276|\n|    0|17179869313| 22.835845394816594|   17.1633660118843| 32.877914832011385|\n|    0|34359738454|  84.20178070080324| -32.81572075916947| -48.63517643958031|\n|    0|          0|  56.54732521345129| -7.980106018032676|  95.05162719436447|\n|    0|17179869201|  -57.6008655247749|  5.135393798773895| 236.99158698947267|\n|    0|17179869308| -65.59264738389012| -48.92660057215126| -61.58970715383383|\n|    0|25769803790|  34.82337351291005|  9.483542084393937|  197.6066372962772|\n|    0|25769803825|  39.80573823439121|-0.7955236412785212| -79.66652640650325|\n+-----+-----------+-------------------+-------------------+-------------------+\nonly showing top 20 rows\n\n",
                    "name": "stdout"
                }
            ]
        },
        {
            "metadata": {},
            "cell_type": "markdown",
            "source": "Please create a VectorAssembler which consumes columns X, Y and Z and produces a column \u201cfeatures\u201d\n"
        },
        {
            "metadata": {},
            "cell_type": "code",
            "source": "from pyspark.ml.feature import VectorAssembler\nvectorAssembler = VectorAssembler(inputCols=[\"X\",\"Y\",\"Z\"],\n                                  outputCol=\"features\")",
            "execution_count": 12,
            "outputs": []
        },
        {
            "metadata": {},
            "cell_type": "markdown",
            "source": "Please instantiate a classifier from the SparkML package and assign it to the classifier variable. Make sure to either\n1.\tRename the \u201cCLASS\u201d column to \u201clabel\u201d or\n2.\tSpecify the label-column correctly to be \u201cCLASS\u201d\n"
        },
        {
            "metadata": {},
            "cell_type": "code",
            "source": "df.printSchema()\n# This renames the CLASS collum\ndf1=df.withColumnRenamed(\"CLASS\",\"label\")\ndf1.printSchema()",
            "execution_count": 13,
            "outputs": [
                {
                    "output_type": "stream",
                    "text": "root\n |-- CLASS: integer (nullable = true)\n |-- SENSORID: long (nullable = true)\n |-- X: double (nullable = true)\n |-- Y: double (nullable = true)\n |-- Z: double (nullable = true)\n\nroot\n |-- label: integer (nullable = true)\n |-- SENSORID: long (nullable = true)\n |-- X: double (nullable = true)\n |-- Y: double (nullable = true)\n |-- Z: double (nullable = true)\n\n",
                    "name": "stdout"
                }
            ]
        },
        {
            "metadata": {},
            "cell_type": "code",
            "source": "#from pyspark.ml.classification import ###YOUR_CODE_GOES_HERE###\"\nfrom pyspark.ml.classification import MultilayerPerceptronClassifier\n\n#classifier = ###YOUR_CODE_GOES_HERE###\"\n\n# specify layers for the neural network:\n# input layer of size 3 (features), two intermediate of size 5 and 4\n# and output of size 2 (classes)\nlayers = [3, 50, 32, 2]\n\n# create the trainer and set its parameters\nclassifier = MultilayerPerceptronClassifier(maxIter=100, layers=layers, blockSize=128, seed=1234, \n                                            labelCol=\"CLASS\", featuresCol=\"features\")",
            "execution_count": 30,
            "outputs": []
        },
        {
            "metadata": {},
            "cell_type": "code",
            "source": "# Evaluating the pipeline steps\n# 1 - VectorIndexing the class columm\nvectorized = vectorAssembler.transform(df)\nvectorized.show()",
            "execution_count": 31,
            "outputs": [
                {
                    "output_type": "stream",
                    "text": "+-----+-----------+-------------------+-------------------+-------------------+--------------------+\n|CLASS|   SENSORID|                  X|                  Y|                  Z|            features|\n+-----+-----------+-------------------+-------------------+-------------------+--------------------+\n|    0|         26| 380.66434005495194| -139.3470983812975|-247.93697521077704|[380.664340054951...|\n|    0|         29| 104.74324299209692| -32.27421440203938|-25.105013725863852|[104.743242992096...|\n|    0| 8589934658| 118.11469236129976| 45.916682927433534| -87.97203782706572|[118.114692361299...|\n|    0|34359738398| 246.55394030642543|-0.6122810693132044|-398.18662513951506|[246.553940306425...|\n|    0|17179869241|-190.32584900181487|  234.7849657520335|-206.34483804019288|[-190.32584900181...|\n|    0|25769803830| 178.62396382387422| -47.07529438881511|  84.38310769821979|[178.623963823874...|\n|    0|25769803831|  85.03128805189493|-4.3024316644854546|-1.1841857567516714|[85.0312880518949...|\n|    0|34359738411| 26.786262674736566| -46.33193951911338| 20.880756008396055|[26.7862626747365...|\n|    0| 8589934592|-16.203752396859194| 51.080957032176954| -96.80526656416971|[-16.203752396859...|\n|    0|25769803852|   47.2048142440404|  -78.2950899652916| 181.99604091494786|[47.2048142440404...|\n|    0|34359738369| 15.608872398939273| -79.90322809181754|  69.62150711098005|[15.6088723989392...|\n|    0|         19|-4.8281721129789315| -67.38050508399905| 221.24876396496404|[-4.8281721129789...|\n|    0|         54| -98.40725712852762|-19.989364074314732|  -302.695196085276|[-98.407257128527...|\n|    0|17179869313| 22.835845394816594|   17.1633660118843| 32.877914832011385|[22.8358453948165...|\n|    0|34359738454|  84.20178070080324| -32.81572075916947| -48.63517643958031|[84.2017807008032...|\n|    0|          0|  56.54732521345129| -7.980106018032676|  95.05162719436447|[56.5473252134512...|\n|    0|17179869201|  -57.6008655247749|  5.135393798773895| 236.99158698947267|[-57.600865524774...|\n|    0|17179869308| -65.59264738389012| -48.92660057215126| -61.58970715383383|[-65.592647383890...|\n|    0|25769803790|  34.82337351291005|  9.483542084393937|  197.6066372962772|[34.8233735129100...|\n|    0|25769803825|  39.80573823439121|-0.7955236412785212| -79.66652640650325|[39.8057382343912...|\n+-----+-----------+-------------------+-------------------+-------------------+--------------------+\nonly showing top 20 rows\n\n",
                    "name": "stdout"
                }
            ]
        },
        {
            "metadata": {},
            "cell_type": "markdown",
            "source": "Let\u2019s train and evaluate\u2026\n"
        },
        {
            "metadata": {},
            "cell_type": "code",
            "source": "from pyspark.ml import Pipeline\npipeline = Pipeline(stages=[vectorAssembler, classifier])",
            "execution_count": 32,
            "outputs": []
        },
        {
            "metadata": {},
            "cell_type": "code",
            "source": "model = pipeline.fit(df)",
            "execution_count": 33,
            "outputs": []
        },
        {
            "metadata": {},
            "cell_type": "code",
            "source": "prediction = model.transform(df)",
            "execution_count": 34,
            "outputs": []
        },
        {
            "metadata": {},
            "cell_type": "code",
            "source": "prediction[\"CLASS\",\"rawPrediction\",\"probability\",\"prediction\"].show()",
            "execution_count": 44,
            "outputs": [
                {
                    "output_type": "stream",
                    "text": "+-----+--------------------+--------------------+----------+\n|CLASS|       rawPrediction|         probability|prediction|\n+-----+--------------------+--------------------+----------+\n|    0|[11.4639676528196...|[0.99999999953130...|       0.0|\n|    0|[4.81609706204504...|[0.99968184698923...|       0.0|\n|    0|[11.6997765616922...|[0.99999999969080...|       0.0|\n|    0|[15.7063238594170...|[0.99999999999993...|       0.0|\n|    0|[7.30501161121329...|[0.99999911009648...|       0.0|\n|    0|[12.7702228644763...|[0.99999999996806...|       0.0|\n|    0|[5.86621536767274...|[0.99995963123884...|       0.0|\n|    0|[11.1962166180986...|[0.99999999924363...|       0.0|\n|    0|[4.60320520205290...|[0.99965458017012...|       0.0|\n|    0|[10.5404364151770...|[0.99999999763313...|       0.0|\n|    0|[7.26994588664018...|[0.99999832166696...|       0.0|\n|    0|[12.6242923815326...|[0.99999999996937...|       0.0|\n|    0|[11.7571774563319...|[0.99999999987634...|       0.0|\n|    0|[4.20490340082175...|[0.99896964243392...|       0.0|\n|    0|[6.30693224569201...|[0.99998365801043...|       0.0|\n|    0|[9.47670290360699...|[0.99999997265863...|       0.0|\n|    0|[9.01352364797759...|[0.99999995919141...|       0.0|\n|    0|[10.7869079492612...|[0.99999999933101...|       0.0|\n|    0|[9.44953775200264...|[0.99999998130281...|       0.0|\n|    0|[14.3796533720154...|[0.99999999999908...|       0.0|\n+-----+--------------------+--------------------+----------+\nonly showing top 20 rows\n\n",
                    "name": "stdout"
                }
            ]
        },
        {
            "metadata": {},
            "cell_type": "code",
            "source": "from pyspark.ml.evaluation import MulticlassClassificationEvaluator\nbinEval = MulticlassClassificationEvaluator().setMetricName(\"accuracy\") .setPredictionCol(\"prediction\").setLabelCol(\"CLASS\")\n    \nbinEval.evaluate(prediction) ",
            "execution_count": 36,
            "outputs": [
                {
                    "output_type": "execute_result",
                    "execution_count": 36,
                    "data": {
                        "text/plain": "1.0"
                    },
                    "metadata": {}
                }
            ]
        },
        {
            "metadata": {},
            "cell_type": "markdown",
            "source": "If you are happy with the result (I\u2019m happy with > 0.55) please submit your solution to the grader by executing the following cells, please don\u2019t forget to obtain an assignment submission token (secret) from the Coursera\u2019s graders web page and paste it to the \u201csecret\u201d variable below, including your email address you\u2019ve used for Coursera. (0.55 means that you are performing better than random guesses)\n"
        },
        {
            "metadata": {},
            "cell_type": "code",
            "source": "!rm -Rf a2_m2.json",
            "execution_count": 37,
            "outputs": []
        },
        {
            "metadata": {},
            "cell_type": "code",
            "source": "prediction = prediction.repartition(1)\nprediction.write.json('a2_m2.json')",
            "execution_count": 38,
            "outputs": []
        },
        {
            "metadata": {},
            "cell_type": "code",
            "source": "!rm -f rklib.py\n!wget https://raw.githubusercontent.com/IBM/coursera/master/rklib.py",
            "execution_count": 39,
            "outputs": [
                {
                    "output_type": "stream",
                    "text": "--2019-12-29 00:18:04--  https://raw.githubusercontent.com/IBM/coursera/master/rklib.py\nResolving raw.githubusercontent.com (raw.githubusercontent.com)... 199.232.8.133\nConnecting to raw.githubusercontent.com (raw.githubusercontent.com)|199.232.8.133|:443... connected.\nHTTP request sent, awaiting response... 200 OK\nLength: 2540 (2.5K) [text/plain]\nSaving to: 'rklib.py'\n\n100%[======================================>] 2,540       --.-K/s   in 0s      \n\n2019-12-29 00:18:04 (28.3 MB/s) - 'rklib.py' saved [2540/2540]\n\n",
                    "name": "stdout"
                }
            ]
        },
        {
            "metadata": {},
            "cell_type": "code",
            "source": "import zipfile\n\ndef zipdir(path, ziph):\n    for root, dirs, files in os.walk(path):\n        for file in files:\n            ziph.write(os.path.join(root, file))\n\nzipf = zipfile.ZipFile('a2_m2.json.zip', 'w', zipfile.ZIP_DEFLATED)\nzipdir('a2_m2.json', zipf)\nzipf.close()",
            "execution_count": 40,
            "outputs": []
        },
        {
            "metadata": {},
            "cell_type": "code",
            "source": "!base64 a2_m2.json.zip > a2_m2.json.zip.base64",
            "execution_count": 41,
            "outputs": []
        },
        {
            "metadata": {},
            "cell_type": "code",
            "source": "from rklib import submit\nkey = \"J3sDL2J8EeiaXhILFWw2-g\"\npart = \"G4P6f\"\nemail = \"giovani.machado@gmail.com\"\nsecret = \"K5wIf6vamYBSyOcP\"\n\nwith open('a2_m2.json.zip.base64', 'r') as myfile:\n    data=myfile.read()\nsubmit(email, secret, key, part, [part], data)",
            "execution_count": 43,
            "outputs": [
                {
                    "output_type": "stream",
                    "text": "Submission successful, please check on the coursera grader page for the status\n-------------------------\n{\"elements\":[{\"itemId\":\"LTL4F\",\"id\":\"f_F-qCtuEei_fRLwaVDk3g~LTL4F~zzQp-CnQEequUgrP7atGQw\",\"courseId\":\"f_F-qCtuEei_fRLwaVDk3g\"}],\"paging\":{},\"linked\":{}}\n-------------------------\n",
                    "name": "stdout"
                }
            ]
        },
        {
            "metadata": {},
            "cell_type": "code",
            "source": "",
            "execution_count": null,
            "outputs": []
        }
    ],
    "metadata": {
        "kernelspec": {
            "name": "python36",
            "display_name": "Python 3.6 with Spark",
            "language": "python3"
        },
        "language_info": {
            "mimetype": "text/x-python",
            "nbconvert_exporter": "python",
            "name": "python",
            "pygments_lexer": "ipython3",
            "version": "3.6.8",
            "file_extension": ".py",
            "codemirror_mode": {
                "version": 3,
                "name": "ipython"
            }
        }
    },
    "nbformat": 4,
    "nbformat_minor": 1
}