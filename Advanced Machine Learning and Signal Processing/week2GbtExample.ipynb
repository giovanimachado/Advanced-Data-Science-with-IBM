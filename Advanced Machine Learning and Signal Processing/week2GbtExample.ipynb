{
    "cells": [
        {
            "metadata": {},
            "cell_type": "markdown",
            "source": "\n\nIn case you want to learn how ETL is done, please run the following notebook first and update the file name below accordingly\n\nhttps://github.com/IBM/coursera/blob/master/coursera_ml/a2_w1_s3_ETL.ipynb\n"
        },
        {
            "metadata": {},
            "cell_type": "code",
            "source": "# delete files from previous runs\n!rm -f hmp.parquet*\n\n# download the file containing the data in PARQUET format\n!wget https://github.com/IBM/coursera/raw/master/hmp.parquet\n    \n# create a dataframe out of it\ndf = spark.read.parquet('hmp.parquet')\n\n# register a corresponding query table\ndf.createOrReplaceTempView('df')",
            "execution_count": 2,
            "outputs": [
                {
                    "output_type": "stream",
                    "text": "--2019-12-29 00:42:38--  https://github.com/IBM/coursera/raw/master/hmp.parquet\nResolving github.com (github.com)... 140.82.113.3\nConnecting to github.com (github.com)|140.82.113.3|:443... connected.\nHTTP request sent, awaiting response... 302 Found\nLocation: https://raw.githubusercontent.com/IBM/coursera/master/hmp.parquet [following]\n--2019-12-29 00:42:38--  https://raw.githubusercontent.com/IBM/coursera/master/hmp.parquet\nResolving raw.githubusercontent.com (raw.githubusercontent.com)... 151.101.48.133\nConnecting to raw.githubusercontent.com (raw.githubusercontent.com)|151.101.48.133|:443... connected.\nHTTP request sent, awaiting response... 200 OK\nLength: 932997 (911K) [application/octet-stream]\nSaving to: 'hmp.parquet'\n\n100%[======================================>] 932,997     --.-K/s   in 0.05s   \n\n2019-12-29 00:42:39 (19.1 MB/s) - 'hmp.parquet' saved [932997/932997]\n\n",
                    "name": "stdout"
                }
            ]
        },
        {
            "metadata": {},
            "cell_type": "code",
            "source": "df.show()",
            "execution_count": 3,
            "outputs": [
                {
                    "output_type": "stream",
                    "text": "+---+---+---+--------------------+-----------+\n|  x|  y|  z|              source|      class|\n+---+---+---+--------------------+-----------+\n| 22| 49| 35|Accelerometer-201...|Brush_teeth|\n| 22| 49| 35|Accelerometer-201...|Brush_teeth|\n| 22| 52| 35|Accelerometer-201...|Brush_teeth|\n| 22| 52| 35|Accelerometer-201...|Brush_teeth|\n| 21| 52| 34|Accelerometer-201...|Brush_teeth|\n| 22| 51| 34|Accelerometer-201...|Brush_teeth|\n| 20| 50| 35|Accelerometer-201...|Brush_teeth|\n| 22| 52| 34|Accelerometer-201...|Brush_teeth|\n| 22| 50| 34|Accelerometer-201...|Brush_teeth|\n| 22| 51| 35|Accelerometer-201...|Brush_teeth|\n| 21| 51| 33|Accelerometer-201...|Brush_teeth|\n| 20| 50| 34|Accelerometer-201...|Brush_teeth|\n| 21| 49| 33|Accelerometer-201...|Brush_teeth|\n| 21| 49| 33|Accelerometer-201...|Brush_teeth|\n| 20| 51| 35|Accelerometer-201...|Brush_teeth|\n| 18| 49| 34|Accelerometer-201...|Brush_teeth|\n| 19| 48| 34|Accelerometer-201...|Brush_teeth|\n| 16| 53| 34|Accelerometer-201...|Brush_teeth|\n| 18| 52| 35|Accelerometer-201...|Brush_teeth|\n| 18| 51| 32|Accelerometer-201...|Brush_teeth|\n+---+---+---+--------------------+-----------+\nonly showing top 20 rows\n\n",
                    "name": "stdout"
                }
            ]
        },
        {
            "metadata": {},
            "cell_type": "code",
            "source": "#Query to discover distinct class values \ntest = spark.sql(\"SELECT DISTINCT class from df\")\ntest.show()",
            "execution_count": 4,
            "outputs": [
                {
                    "output_type": "stream",
                    "text": "+--------------+\n|         class|\n+--------------+\n| Use_telephone|\n| Standup_chair|\n|      Eat_meat|\n|     Getup_bed|\n|   Drink_glass|\n|    Pour_water|\n|     Comb_hair|\n|          Walk|\n|  Climb_stairs|\n| Sitdown_chair|\n|   Liedown_bed|\n|Descend_stairs|\n|   Brush_teeth|\n|      Eat_soup|\n+--------------+\n\n",
                    "name": "stdout"
                }
            ]
        },
        {
            "metadata": {},
            "cell_type": "code",
            "source": "df_two_class = spark.sql(\"select * from df where class in ('Use_telephone','Standup_chair')\")",
            "execution_count": 5,
            "outputs": []
        },
        {
            "metadata": {},
            "cell_type": "code",
            "source": "splits = df_two_class.randomSplit([0.8, 0.2])\ndf_train = splits[0]\ndf_test = splits[1]",
            "execution_count": 6,
            "outputs": []
        },
        {
            "metadata": {},
            "cell_type": "code",
            "source": "from pyspark.ml.feature import StringIndexer, OneHotEncoder\nfrom pyspark.ml.linalg import Vectors\nfrom pyspark.ml.feature import VectorAssembler\nfrom pyspark.ml.feature import Normalizer\n\n\nindexer = StringIndexer(inputCol=\"class\", outputCol=\"label\")\n\nvectorAssembler = VectorAssembler(inputCols=[\"x\",\"y\",\"z\"],\n                                  outputCol=\"features\")\n\nnormalizer = Normalizer(inputCol=\"features\", outputCol=\"features_norm\", p=1.0)",
            "execution_count": 7,
            "outputs": []
        },
        {
            "metadata": {},
            "cell_type": "code",
            "source": "# Evaluating the pipeline steps\n# 1 - Indexing the class columm\nindexed = indexer.fit(df_train).transform(df_train)\nindexed.show()",
            "execution_count": 8,
            "outputs": [
                {
                    "output_type": "stream",
                    "text": "+---+---+---+--------------------+-------------+-----+\n|  x|  y|  z|              source|        class|label|\n+---+---+---+--------------------+-------------+-----+\n|  0| 30| 24|Accelerometer-201...|Standup_chair|  0.0|\n|  0| 31| 17|Accelerometer-201...|Standup_chair|  0.0|\n|  0| 31| 32|Accelerometer-201...|Standup_chair|  0.0|\n|  0| 31| 32|Accelerometer-201...|Standup_chair|  0.0|\n|  0| 34| 29|Accelerometer-201...|Standup_chair|  0.0|\n|  0| 35| 28|Accelerometer-201...|Standup_chair|  0.0|\n|  0| 36| 37|Accelerometer-201...|Standup_chair|  0.0|\n|  0| 37| 26|Accelerometer-201...|Standup_chair|  0.0|\n|  0| 37| 30|Accelerometer-201...|Standup_chair|  0.0|\n|  0| 37| 35|Accelerometer-201...|Standup_chair|  0.0|\n|  0| 40| 34|Accelerometer-201...|Standup_chair|  0.0|\n|  0| 42| 34|Accelerometer-201...|Standup_chair|  0.0|\n|  0| 43| 34|Accelerometer-201...|Standup_chair|  0.0|\n|  0| 43| 34|Accelerometer-201...|Standup_chair|  0.0|\n|  0| 44| 21|Accelerometer-201...|Standup_chair|  0.0|\n|  0| 56| 30|Accelerometer-201...|Standup_chair|  0.0|\n|  1| 11| 43|Accelerometer-201...|Standup_chair|  0.0|\n|  1| 25| 29|Accelerometer-201...|Standup_chair|  0.0|\n|  1| 27| 20|Accelerometer-201...|Standup_chair|  0.0|\n|  1| 29| 23|Accelerometer-201...|Standup_chair|  0.0|\n+---+---+---+--------------------+-------------+-----+\nonly showing top 20 rows\n\n",
                    "name": "stdout"
                }
            ]
        },
        {
            "metadata": {},
            "cell_type": "code",
            "source": "# Evaluating the pipeline steps\n# 2 - VectorIndexing the class columm\nvectorized = vectorAssembler.transform(indexed)\nvectorized.show()",
            "execution_count": 9,
            "outputs": [
                {
                    "output_type": "stream",
                    "text": "+---+---+---+--------------------+-------------+-----+---------------+\n|  x|  y|  z|              source|        class|label|       features|\n+---+---+---+--------------------+-------------+-----+---------------+\n|  0| 30| 24|Accelerometer-201...|Standup_chair|  0.0|[0.0,30.0,24.0]|\n|  0| 31| 17|Accelerometer-201...|Standup_chair|  0.0|[0.0,31.0,17.0]|\n|  0| 31| 32|Accelerometer-201...|Standup_chair|  0.0|[0.0,31.0,32.0]|\n|  0| 31| 32|Accelerometer-201...|Standup_chair|  0.0|[0.0,31.0,32.0]|\n|  0| 34| 29|Accelerometer-201...|Standup_chair|  0.0|[0.0,34.0,29.0]|\n|  0| 35| 28|Accelerometer-201...|Standup_chair|  0.0|[0.0,35.0,28.0]|\n|  0| 36| 37|Accelerometer-201...|Standup_chair|  0.0|[0.0,36.0,37.0]|\n|  0| 37| 26|Accelerometer-201...|Standup_chair|  0.0|[0.0,37.0,26.0]|\n|  0| 37| 30|Accelerometer-201...|Standup_chair|  0.0|[0.0,37.0,30.0]|\n|  0| 37| 35|Accelerometer-201...|Standup_chair|  0.0|[0.0,37.0,35.0]|\n|  0| 40| 34|Accelerometer-201...|Standup_chair|  0.0|[0.0,40.0,34.0]|\n|  0| 42| 34|Accelerometer-201...|Standup_chair|  0.0|[0.0,42.0,34.0]|\n|  0| 43| 34|Accelerometer-201...|Standup_chair|  0.0|[0.0,43.0,34.0]|\n|  0| 43| 34|Accelerometer-201...|Standup_chair|  0.0|[0.0,43.0,34.0]|\n|  0| 44| 21|Accelerometer-201...|Standup_chair|  0.0|[0.0,44.0,21.0]|\n|  0| 56| 30|Accelerometer-201...|Standup_chair|  0.0|[0.0,56.0,30.0]|\n|  1| 11| 43|Accelerometer-201...|Standup_chair|  0.0|[1.0,11.0,43.0]|\n|  1| 25| 29|Accelerometer-201...|Standup_chair|  0.0|[1.0,25.0,29.0]|\n|  1| 27| 20|Accelerometer-201...|Standup_chair|  0.0|[1.0,27.0,20.0]|\n|  1| 29| 23|Accelerometer-201...|Standup_chair|  0.0|[1.0,29.0,23.0]|\n+---+---+---+--------------------+-------------+-----+---------------+\nonly showing top 20 rows\n\n",
                    "name": "stdout"
                }
            ]
        },
        {
            "metadata": {},
            "cell_type": "code",
            "source": "# Evaluating the pipeline steps\n# 3 - Normalizing the features columm\nnormalized = normalizer.transform(vectorized)\nnormalized.show()\n",
            "execution_count": 10,
            "outputs": [
                {
                    "output_type": "stream",
                    "text": "+---+---+---+--------------------+-------------+-----+---------------+--------------------+\n|  x|  y|  z|              source|        class|label|       features|       features_norm|\n+---+---+---+--------------------+-------------+-----+---------------+--------------------+\n|  0| 30| 24|Accelerometer-201...|Standup_chair|  0.0|[0.0,30.0,24.0]|[0.0,0.5555555555...|\n|  0| 31| 17|Accelerometer-201...|Standup_chair|  0.0|[0.0,31.0,17.0]|[0.0,0.6458333333...|\n|  0| 31| 32|Accelerometer-201...|Standup_chair|  0.0|[0.0,31.0,32.0]|[0.0,0.4920634920...|\n|  0| 31| 32|Accelerometer-201...|Standup_chair|  0.0|[0.0,31.0,32.0]|[0.0,0.4920634920...|\n|  0| 34| 29|Accelerometer-201...|Standup_chair|  0.0|[0.0,34.0,29.0]|[0.0,0.5396825396...|\n|  0| 35| 28|Accelerometer-201...|Standup_chair|  0.0|[0.0,35.0,28.0]|[0.0,0.5555555555...|\n|  0| 36| 37|Accelerometer-201...|Standup_chair|  0.0|[0.0,36.0,37.0]|[0.0,0.4931506849...|\n|  0| 37| 26|Accelerometer-201...|Standup_chair|  0.0|[0.0,37.0,26.0]|[0.0,0.5873015873...|\n|  0| 37| 30|Accelerometer-201...|Standup_chair|  0.0|[0.0,37.0,30.0]|[0.0,0.5522388059...|\n|  0| 37| 35|Accelerometer-201...|Standup_chair|  0.0|[0.0,37.0,35.0]|[0.0,0.5138888888...|\n|  0| 40| 34|Accelerometer-201...|Standup_chair|  0.0|[0.0,40.0,34.0]|[0.0,0.5405405405...|\n|  0| 42| 34|Accelerometer-201...|Standup_chair|  0.0|[0.0,42.0,34.0]|[0.0,0.5526315789...|\n|  0| 43| 34|Accelerometer-201...|Standup_chair|  0.0|[0.0,43.0,34.0]|[0.0,0.5584415584...|\n|  0| 43| 34|Accelerometer-201...|Standup_chair|  0.0|[0.0,43.0,34.0]|[0.0,0.5584415584...|\n|  0| 44| 21|Accelerometer-201...|Standup_chair|  0.0|[0.0,44.0,21.0]|[0.0,0.6769230769...|\n|  0| 56| 30|Accelerometer-201...|Standup_chair|  0.0|[0.0,56.0,30.0]|[0.0,0.6511627906...|\n|  1| 11| 43|Accelerometer-201...|Standup_chair|  0.0|[1.0,11.0,43.0]|[0.01818181818181...|\n|  1| 25| 29|Accelerometer-201...|Standup_chair|  0.0|[1.0,25.0,29.0]|[0.01818181818181...|\n|  1| 27| 20|Accelerometer-201...|Standup_chair|  0.0|[1.0,27.0,20.0]|[0.02083333333333...|\n|  1| 29| 23|Accelerometer-201...|Standup_chair|  0.0|[1.0,29.0,23.0]|[0.01886792452830...|\n+---+---+---+--------------------+-------------+-----+---------------+--------------------+\nonly showing top 20 rows\n\n",
                    "name": "stdout"
                }
            ]
        },
        {
            "metadata": {},
            "cell_type": "code",
            "source": "from pyspark.ml.classification import GBTClassifier\n\ngbt = GBTClassifier(labelCol=\"label\", featuresCol=\"features_norm\", maxIter=10)",
            "execution_count": 11,
            "outputs": []
        },
        {
            "metadata": {},
            "cell_type": "code",
            "source": "from pyspark.ml import Pipeline\npipeline = Pipeline(stages=[indexer, vectorAssembler, normalizer,gbt])",
            "execution_count": 12,
            "outputs": []
        },
        {
            "metadata": {},
            "cell_type": "code",
            "source": "model = pipeline.fit(df_train)",
            "execution_count": 13,
            "outputs": []
        },
        {
            "metadata": {},
            "cell_type": "code",
            "source": "prediction = model.transform(df_train)",
            "execution_count": 14,
            "outputs": []
        },
        {
            "metadata": {},
            "cell_type": "code",
            "source": "from pyspark.ml.evaluation import MulticlassClassificationEvaluator\nbinEval = MulticlassClassificationEvaluator().setMetricName(\"accuracy\").setPredictionCol(\"prediction\").setLabelCol(\"label\")\n    \nbinEval.evaluate(prediction) ",
            "execution_count": 15,
            "outputs": [
                {
                    "output_type": "execute_result",
                    "execution_count": 15,
                    "data": {
                        "text/plain": "0.910097840132915"
                    },
                    "metadata": {}
                }
            ]
        },
        {
            "metadata": {},
            "cell_type": "code",
            "source": "prediction = model.transform(df_test)",
            "execution_count": 16,
            "outputs": []
        },
        {
            "metadata": {},
            "cell_type": "code",
            "source": "binEval.evaluate(prediction) ",
            "execution_count": 17,
            "outputs": [
                {
                    "output_type": "execute_result",
                    "execution_count": 17,
                    "data": {
                        "text/plain": "0.9074938574938575"
                    },
                    "metadata": {}
                }
            ]
        },
        {
            "metadata": {},
            "cell_type": "code",
            "source": "from pyspark.ml.tuning import CrossValidator, ParamGridBuilder",
            "execution_count": 18,
            "outputs": []
        },
        {
            "metadata": {},
            "cell_type": "code",
            "source": "#paramGrid = ParamGridBuilder() \\\n#    .addGrid(normalizer.p, [1.0, 2.0, 10.0]) \\\n#    .addGrid(gbt.maxBins, [2,4,8,16]) \\\n#    .addGrid(gbt.maxDepth, [2,4,8,16]) \\\n#    .build()\n\nparamGrid = ParamGridBuilder() \\\n    .addGrid(normalizer.p, [1.0, 2.0]) \\\n    .addGrid(gbt.maxBins, [2,16]) \\\n    .addGrid(gbt.maxDepth, [2,16]) \\\n    .build()",
            "execution_count": 19,
            "outputs": []
        },
        {
            "metadata": {},
            "cell_type": "code",
            "source": "crossval = CrossValidator(estimator=pipeline,\n                          estimatorParamMaps=paramGrid,\n                          evaluator=MulticlassClassificationEvaluator(),\n                          numFolds=2)",
            "execution_count": 20,
            "outputs": []
        },
        {
            "metadata": {},
            "cell_type": "code",
            "source": "cvModel = crossval.fit(df_train)",
            "execution_count": 21,
            "outputs": []
        },
        {
            "metadata": {},
            "cell_type": "code",
            "source": "prediction = cvModel.transform(df_test)",
            "execution_count": 22,
            "outputs": []
        },
        {
            "metadata": {},
            "cell_type": "code",
            "source": "binEval.evaluate(prediction)",
            "execution_count": 23,
            "outputs": [
                {
                    "output_type": "execute_result",
                    "execution_count": 23,
                    "data": {
                        "text/plain": "0.9142506142506143"
                    },
                    "metadata": {}
                }
            ]
        },
        {
            "metadata": {},
            "cell_type": "code",
            "source": "cvModel.bestModel.stages[-1].explainParams()",
            "execution_count": 24,
            "outputs": [
                {
                    "output_type": "execute_result",
                    "execution_count": 24,
                    "data": {
                        "text/plain": "\"cacheNodeIds: If false, the algorithm will pass trees to executors to match instances with nodes. If true, the algorithm will cache node IDs for each instance. Caching can speed up training of deeper trees. (default: False)\\ncheckpointInterval: set checkpoint interval (>= 1) or disable checkpoint (-1). E.g. 10 means that the cache will get checkpointed every 10 iterations. Note: this setting will be ignored if the checkpoint directory is not set in the SparkContext (default: 10)\\nfeatureSubsetStrategy: The number of features to consider for splits at each tree node. Supported options: auto, all, onethird, sqrt, log2, (0.0-1.0], [1-n]. (undefined)\\nfeaturesCol: features column name (default: features, current: features_norm)\\nimpurity: Criterion used for information gain calculation (case-insensitive). Supported options: entropy, gini (undefined)\\nlabelCol: label column name (default: label, current: label)\\nlossType: Loss function which GBT tries to minimize (case-insensitive). Supported options: logistic (default: logistic)\\nmaxBins: Max number of bins for discretizing continuous features.  Must be >=2 and >= number of categories for any categorical feature. (default: 32, current: 16)\\nmaxDepth: Maximum depth of the tree. (>= 0) E.g., depth 0 means 1 leaf node; depth 1 means 1 internal node + 2 leaf nodes. (default: 5, current: 16)\\nmaxIter: maximum number of iterations (>= 0) (default: 20, current: 10)\\nmaxMemoryInMB: Maximum memory in MB allocated to histogram aggregation. (default: 256)\\nminInfoGain: Minimum information gain for a split to be considered at a tree node. (default: 0.0)\\nminInstancesPerNode: Minimum number of instances each child must have after split.  If a split causes the left or right child to have fewer than minInstancesPerNode, the split will be discarded as invalid. Should be >= 1. (default: 1)\\npredictionCol: prediction column name (default: prediction)\\nprobabilityCol: Column name for predicted class conditional probabilities. Note: Not all models output well-calibrated probability estimates! These probabilities should be treated as confidences, not precise probabilities (undefined)\\nrawPredictionCol: raw prediction (a.k.a. confidence) column name (undefined)\\nseed: random seed (default: 2111061942189741411)\\nstepSize: Step size (a.k.a. learning rate) in interval (0, 1] for shrinking the contribution of each estimator. (default: 0.1)\\nsubsamplingRate: Fraction of the training data used for learning each decision tree, in range (0, 1]. (default: 1.0)\\nthresholds: Thresholds in multi-class classification to adjust the probability of predicting each class. Array must have length equal to the number of classes, with values > 0 excepting that at most one value may be 0. The class with largest value p/t is predicted, where p is the original probability of that class and t is the class's threshold (undefined)\""
                    },
                    "metadata": {}
                }
            ]
        },
        {
            "metadata": {},
            "cell_type": "code",
            "source": "",
            "execution_count": null,
            "outputs": []
        }
    ],
    "metadata": {
        "kernelspec": {
            "name": "python36",
            "display_name": "Python 3.6 with Spark",
            "language": "python3"
        }
    },
    "nbformat": 4,
    "nbformat_minor": 4
}